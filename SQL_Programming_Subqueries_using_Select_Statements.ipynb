{
  "nbformat": 4,
  "nbformat_minor": 0,
  "metadata": {
    "colab": {
      "name": " SQL Programming -  Subqueries using Select Statements",
      "provenance": [],
      "collapsed_sections": []
    },
    "kernelspec": {
      "name": "python3",
      "display_name": "Python 3"
    }
  },
  "cells": [
    {
      "cell_type": "markdown",
      "metadata": {
        "id": "LtFx0bBdlL-n"
      },
      "source": [
        "# SQL Programming - Subqueries using Select Statements"
      ]
    },
    {
      "cell_type": "markdown",
      "metadata": {
        "id": "mlCS9-zslSwf"
      },
      "source": [
        "## 1.0 Connecting to our Database"
      ]
    },
    {
      "cell_type": "code",
      "metadata": {
        "id": "cEeocMxvnZwS",
        "colab": {
          "base_uri": "https://localhost:8080/",
          "height": 70
        },
        "outputId": "49ee0b86-bb45-4a06-cd0b-cbf9600744a5"
      },
      "source": [
        "# We will first load the sql extension into our environment\n",
        "%load_ext sql\n",
        "\n",
        "# Then connect to our in memory sqlite database\n",
        "# NB: This database will cease to exist as soon as the database connection is closed. \n",
        "%sql sqlite://"
      ],
      "execution_count": null,
      "outputs": [
        {
          "output_type": "stream",
          "name": "stdout",
          "text": [
            "The sql extension is already loaded. To reload it, use:\n",
            "  %reload_ext sql\n"
          ]
        },
        {
          "output_type": "execute_result",
          "data": {
            "application/vnd.google.colaboratory.intrinsic+json": {
              "type": "string"
            },
            "text/plain": [
              "'Connected: @None'"
            ]
          },
          "metadata": {},
          "execution_count": 8
        }
      ]
    },
    {
      "cell_type": "markdown",
      "metadata": {
        "id": "lLI1zQYqlVlt"
      },
      "source": [
        "## 1.1 Loading Data from CSV Files"
      ]
    },
    {
      "cell_type": "markdown",
      "metadata": {
        "id": "tNUsWoeTWn_f"
      },
      "source": [
        "Datasets used in this notebook:\n",
        "\n",
        "\n",
        "1.   **World Countries**\n",
        "\n",
        "> ([Dataset Download Link](https://drive.google.com/a/moringaschool.com/file/d/1XlabneVWhvbmpRUi_Wix2FR5uYAAp-ZY/view?usp=sharing))\n",
        "\n",
        "2.   **World Cities** \n",
        "\n",
        "> ([Dataset Download Link](https://drive.google.com/a/moringaschool.com/file/d/1R5952m-8hH91uiwDK8dcL9sT2D_PEcuw/view?usp=sharing))\n",
        "\n",
        "\n",
        "\n",
        "\n"
      ]
    },
    {
      "cell_type": "code",
      "metadata": {
        "id": "jryiwN6GiqoT"
      },
      "source": [
        "# Importing Pandas\n",
        "import pandas as pd"
      ],
      "execution_count": null,
      "outputs": []
    },
    {
      "cell_type": "code",
      "metadata": {
        "id": "gnuy0grfirgn",
        "colab": {
          "base_uri": "https://localhost:8080/",
          "height": 228
        },
        "outputId": "fedffd93-3352-49c5-d72e-4bec75da7827"
      },
      "source": [
        "# Loading our Countries dataset\n",
        "# \n",
        "with open('world_countries.csv','r') as f:\n",
        "    world_countries = pd.read_csv(f, index_col=0, encoding='utf-8')\n",
        "%sql DROP TABLE if EXISTS world_countries;\n",
        "%sql PERSIST world_countries;\n",
        "%sql SELECT * FROM world_countries ;"
      ],
      "execution_count": null,
      "outputs": [
        {
          "output_type": "stream",
          "name": "stdout",
          "text": [
            " * sqlite://\n",
            "Done.\n",
            " * sqlite://\n",
            " * sqlite://\n",
            "Done.\n"
          ]
        },
        {
          "output_type": "execute_result",
          "data": {
            "text/html": [
              "<table>\n",
              "    <thead>\n",
              "        <tr>\n",
              "            <th>country</th>\n",
              "            <th>population</th>\n",
              "            <th>EU</th>\n",
              "            <th>coastline</th>\n",
              "        </tr>\n",
              "    </thead>\n",
              "    <tbody>\n",
              "        <tr>\n",
              "            <td>Albania</td>\n",
              "            <td>2.9</td>\n",
              "            <td>no</td>\n",
              "            <td>yes</td>\n",
              "        </tr>\n",
              "        <tr>\n",
              "            <td>Andorra</td>\n",
              "            <td>0.07</td>\n",
              "            <td>no</td>\n",
              "            <td>no</td>\n",
              "        </tr>\n",
              "        <tr>\n",
              "            <td>Austria</td>\n",
              "            <td>8.57</td>\n",
              "            <td>yes</td>\n",
              "            <td>no</td>\n",
              "        </tr>\n",
              "        <tr>\n",
              "            <td>Belarus</td>\n",
              "            <td>9.48</td>\n",
              "            <td>no</td>\n",
              "            <td>no</td>\n",
              "        </tr>\n",
              "        <tr>\n",
              "            <td>Belgium</td>\n",
              "            <td>11.37</td>\n",
              "            <td>yes</td>\n",
              "            <td>yes</td>\n",
              "        </tr>\n",
              "    </tbody>\n",
              "</table>"
            ],
            "text/plain": [
              "[('Albania', 2.9, 'no', 'yes'),\n",
              " ('Andorra', 0.07, 'no', 'no'),\n",
              " ('Austria', 8.57, 'yes', 'no'),\n",
              " ('Belarus', 9.48, 'no', 'no'),\n",
              " ('Belgium', 11.37, 'yes', 'yes')]"
            ]
          },
          "metadata": {},
          "execution_count": 10
        }
      ]
    },
    {
      "cell_type": "code",
      "metadata": {
        "id": "Nl8AVi1OyUmm"
      },
      "source": [
        "# Loading our cities dataset \n",
        "# \n",
        "with open('world_cities.csv','r') as f:\n",
        "    world_cities = pd.read_csv(f, index_col=0, encoding='utf-8')\n",
        "%sql DROP TABLE if EXISTS world_cities;\n",
        "%sql PERSIST world_cities;\n",
        "%sql SELECT * FROM world_cities;"
      ],
      "execution_count": null,
      "outputs": []
    },
    {
      "cell_type": "markdown",
      "metadata": {
        "id": "LEAwY5fwleiu"
      },
      "source": [
        "## 1.2 Subqueries using the SELECT statement"
      ]
    },
    {
      "cell_type": "markdown",
      "metadata": {
        "id": "xgcGBkvuA3V0"
      },
      "source": [
        "A subquery is a query within another query. The outer query is called as main query and inner query is called as subquery. The subquery must be enclosed with parenthesis and generally executes first, and its output is used to complete the query condition for the main or outer query. We will go through examples of how subqueries can be used to answers different types of questions then later, we will use our learnings to work on the challenges."
      ]
    },
    {
      "cell_type": "code",
      "metadata": {
        "id": "--LbGFNOnbTx",
        "colab": {
          "base_uri": "https://localhost:8080/",
          "height": 176
        },
        "outputId": "a6a1aee1-4235-4308-bd7d-273757cb5d2d"
      },
      "source": [
        "# Example 1\n",
        "# Subqueries can occur in the select list of the containing query\n",
        "# as shown below;\n",
        "# Let's find all countries in the Countries table with no city in the Cities table\n",
        "# \n",
        "%%sql\n",
        "SELECT country\n",
        "FROM world_Countries\n",
        "WHERE NOT EXISTS (SELECT * FROM world_Cities\n",
        "                  WHERE world_Cities.country = world_Countries.country) \n"
      ],
      "execution_count": null,
      "outputs": [
        {
          "output_type": "stream",
          "name": "stdout",
          "text": [
            " * sqlite://\n",
            "Done.\n"
          ]
        },
        {
          "output_type": "execute_result",
          "data": {
            "text/html": [
              "<table>\n",
              "    <thead>\n",
              "        <tr>\n",
              "            <th>country</th>\n",
              "        </tr>\n",
              "    </thead>\n",
              "    <tbody>\n",
              "        <tr>\n",
              "            <td>Cyprus</td>\n",
              "        </tr>\n",
              "        <tr>\n",
              "            <td>Iceland</td>\n",
              "        </tr>\n",
              "        <tr>\n",
              "            <td>Kosovo</td>\n",
              "        </tr>\n",
              "        <tr>\n",
              "            <td>Liechtenstein</td>\n",
              "        </tr>\n",
              "        <tr>\n",
              "            <td>Luxembourg</td>\n",
              "        </tr>\n",
              "    </tbody>\n",
              "</table>"
            ],
            "text/plain": [
              "[('Cyprus',), ('Iceland',), ('Kosovo',), ('Liechtenstein',), ('Luxembourg',)]"
            ]
          },
          "metadata": {},
          "execution_count": 18
        }
      ]
    },
    {
      "cell_type": "code",
      "metadata": {
        "id": "8XqiW-Q8ndKT",
        "colab": {
          "base_uri": "https://localhost:8080/",
          "height": 156
        },
        "outputId": "07b02014-b0bd-4f5d-dbb2-a3fcd5427a44"
      },
      "source": [
        "# Example 2\n",
        "# Find the European countries with cities experiencing temperature > 20?\n",
        "# \n",
        "%%sql\n",
        "SELECT country\n",
        "FROM world_Countries\n",
        "WHERE EU = 'yes'\n",
        "AND EXISTS (SELECT * FROM world_Cities\n",
        "            WHERE world_Cities.country = world_Countries.country\n",
        "            AND temperature > 15)"
      ],
      "execution_count": null,
      "outputs": [
        {
          "output_type": "stream",
          "name": "stdout",
          "text": [
            " * sqlite://\n",
            "Done.\n"
          ]
        },
        {
          "output_type": "execute_result",
          "data": {
            "text/html": [
              "<table>\n",
              "    <thead>\n",
              "        <tr>\n",
              "            <th>country</th>\n",
              "        </tr>\n",
              "    </thead>\n",
              "    <tbody>\n",
              "        <tr>\n",
              "            <td>Greece</td>\n",
              "        </tr>\n",
              "        <tr>\n",
              "            <td>Italy</td>\n",
              "        </tr>\n",
              "        <tr>\n",
              "            <td>Portugal</td>\n",
              "        </tr>\n",
              "        <tr>\n",
              "            <td>Spain</td>\n",
              "        </tr>\n",
              "    </tbody>\n",
              "</table>"
            ],
            "text/plain": [
              "[('Greece',), ('Italy',), ('Portugal',), ('Spain',)]"
            ]
          },
          "metadata": {},
          "execution_count": 21
        }
      ]
    },
    {
      "cell_type": "code",
      "metadata": {
        "id": "ocuJ_kB4nd3z",
        "colab": {
          "base_uri": "https://localhost:8080/",
          "height": 93
        },
        "outputId": "35ade499-ffb8-418b-a4ab-80b49a182587"
      },
      "source": [
        "# Example 3: Method 1\n",
        "# Find the westernmost city, returning the city and longitude\n",
        "# \n",
        "%%sql\n",
        "SELECT city, longitude\n",
        "FROM world_Cities C1\n",
        "WHERE NOT EXISTS (SELECT * FROM world_Cities C2\n",
        "                  WHERE C2.longitude < C1.longitude)"
      ],
      "execution_count": null,
      "outputs": [
        {
          "output_type": "stream",
          "name": "stdout",
          "text": [
            " * sqlite://\n",
            "Done.\n"
          ]
        },
        {
          "output_type": "execute_result",
          "data": {
            "text/html": [
              "<table>\n",
              "    <thead>\n",
              "        <tr>\n",
              "            <th>city</th>\n",
              "            <th>longitude</th>\n",
              "        </tr>\n",
              "    </thead>\n",
              "    <tbody>\n",
              "        <tr>\n",
              "            <td>Lisbon</td>\n",
              "            <td>-9.14</td>\n",
              "        </tr>\n",
              "    </tbody>\n",
              "</table>"
            ],
            "text/plain": [
              "[('Lisbon', -9.14)]"
            ]
          },
          "metadata": {},
          "execution_count": 22
        }
      ]
    },
    {
      "cell_type": "code",
      "metadata": {
        "id": "MQCaPcMQ5pDl",
        "colab": {
          "base_uri": "https://localhost:8080/",
          "height": 93
        },
        "outputId": "77863e1b-83fa-4439-ed67-95dfca4c5516"
      },
      "source": [
        "# Example 3: Method 2\n",
        "# Find the westernmost city, returning the city and longitude\n",
        "# \n",
        "%%sql\n",
        "SELECT city, longitude\n",
        "FROM world_Cities\n",
        "WHERE longitude = (SELECT min(longitude) FROM world_Cities)"
      ],
      "execution_count": null,
      "outputs": [
        {
          "output_type": "stream",
          "name": "stdout",
          "text": [
            " * sqlite://\n",
            "Done.\n"
          ]
        },
        {
          "output_type": "execute_result",
          "data": {
            "text/html": [
              "<table>\n",
              "    <thead>\n",
              "        <tr>\n",
              "            <th>city</th>\n",
              "            <th>longitude</th>\n",
              "        </tr>\n",
              "    </thead>\n",
              "    <tbody>\n",
              "        <tr>\n",
              "            <td>Lisbon</td>\n",
              "            <td>-9.14</td>\n",
              "        </tr>\n",
              "    </tbody>\n",
              "</table>"
            ],
            "text/plain": [
              "[('Lisbon', -9.14)]"
            ]
          },
          "metadata": {},
          "execution_count": 23
        }
      ]
    },
    {
      "cell_type": "code",
      "metadata": {
        "id": "KL5VFl2x7kLZ",
        "colab": {
          "base_uri": "https://localhost:8080/",
          "height": 93
        },
        "outputId": "24a1bb2d-2ebb-4ac8-83aa-1a918ebffc80"
      },
      "source": [
        "# Example 4:\n",
        "# How many cities are in the EU?\n",
        "# \n",
        "%%sql\n",
        "SELECT count()\n",
        "FROM world_Cities\n",
        "WHERE country IN \n",
        "               (SELECT country FROM world_Countries WHERE EU = 'yes')"
      ],
      "execution_count": null,
      "outputs": [
        {
          "output_type": "stream",
          "name": "stdout",
          "text": [
            " * sqlite://\n",
            "Done.\n"
          ]
        },
        {
          "output_type": "execute_result",
          "data": {
            "text/html": [
              "<table>\n",
              "    <thead>\n",
              "        <tr>\n",
              "            <th>count()</th>\n",
              "        </tr>\n",
              "    </thead>\n",
              "    <tbody>\n",
              "        <tr>\n",
              "            <td>150</td>\n",
              "        </tr>\n",
              "    </tbody>\n",
              "</table>"
            ],
            "text/plain": [
              "[(150,)]"
            ]
          },
          "metadata": {},
          "execution_count": 24
        }
      ]
    },
    {
      "cell_type": "markdown",
      "metadata": {
        "id": "d1czA9cCnfki"
      },
      "source": [
        "### <font color=\"green\">1.2 Challenges</font>"
      ]
    },
    {
      "cell_type": "code",
      "metadata": {
        "id": "BpOpH-fznpo2",
        "colab": {
          "base_uri": "https://localhost:8080/",
          "height": 93
        },
        "outputId": "cf765101-0940-44d1-eb7c-003414e78cea"
      },
      "source": [
        "# Challenge 1\n",
        "# Find number of countries that have a city with latitude > 1000 (start with country list)\n",
        "# \n",
        "%%sql\n",
        "SELECT count(country)\n",
        "FROM world_countries\n",
        "WHERE country IN(SELECT city FROM world_cities WHERE latitude > 1000)"
      ],
      "execution_count": null,
      "outputs": [
        {
          "output_type": "stream",
          "name": "stdout",
          "text": [
            " * sqlite://\n",
            "Done.\n"
          ]
        },
        {
          "output_type": "execute_result",
          "data": {
            "text/html": [
              "<table>\n",
              "    <thead>\n",
              "        <tr>\n",
              "            <th>count(country)</th>\n",
              "        </tr>\n",
              "    </thead>\n",
              "    <tbody>\n",
              "        <tr>\n",
              "            <td>0</td>\n",
              "        </tr>\n",
              "    </tbody>\n",
              "</table>"
            ],
            "text/plain": [
              "[(0,)]"
            ]
          },
          "metadata": {},
          "execution_count": 31
        }
      ]
    },
    {
      "cell_type": "code",
      "metadata": {
        "id": "jIhUfWXlnrcK",
        "colab": {
          "base_uri": "https://localhost:8080/",
          "height": 93
        },
        "outputId": "bf71e6dc-a688-49f2-8fc5-f2fe079aee6b"
      },
      "source": [
        "# Challenge 2\n",
        "# Find three western most cities returning both the cities and their longitude\n",
        "#\n",
        "%%sql\n",
        "SELECT city, longitude\n",
        "FROM world_Cities\n",
        "WHERE longitude = (SELECT min(longitude) FROM world_Cities) LIMIT 3;"
      ],
      "execution_count": null,
      "outputs": [
        {
          "output_type": "stream",
          "name": "stdout",
          "text": [
            " * sqlite://\n",
            "Done.\n"
          ]
        },
        {
          "output_type": "execute_result",
          "data": {
            "text/html": [
              "<table>\n",
              "    <thead>\n",
              "        <tr>\n",
              "            <th>city</th>\n",
              "            <th>longitude</th>\n",
              "        </tr>\n",
              "    </thead>\n",
              "    <tbody>\n",
              "        <tr>\n",
              "            <td>Lisbon</td>\n",
              "            <td>-9.14</td>\n",
              "        </tr>\n",
              "    </tbody>\n",
              "</table>"
            ],
            "text/plain": [
              "[('Lisbon', -9.14)]"
            ]
          },
          "metadata": {},
          "execution_count": 32
        }
      ]
    },
    {
      "cell_type": "code",
      "metadata": {
        "id": "o0ACgdPAnvrF"
      },
      "source": [
        "# Challenge 3\n",
        "# Find cities with temperature is more than 50% higher than the average; \n",
        "# We will return the city, country, and temperature, ordered by descending temperature\n",
        "# Hint: avg(temperature) * 1.5\n",
        "# \n",
        "%%sql\n",
        "SELECT city, longitude,temperature\n",
        "FROM world_Cities\n",
        "WHERE temperature < (SELECT (temperature*1.5) FROM world_Cities)ORDER BY temperature DESC;"
      ],
      "execution_count": null,
      "outputs": []
    },
    {
      "cell_type": "code",
      "metadata": {
        "id": "fmUqjv6F6lQ0",
        "colab": {
          "base_uri": "https://localhost:8080/",
          "height": 93
        },
        "outputId": "0975d1cf-3b21-445e-fa1a-9efe683844bd"
      },
      "source": [
        "# Challenge 4\n",
        "# How many cities are not in the EU and without a coastline?\n",
        "# Hint: \"not in\"\n",
        "# \n",
        "%%sql\n",
        "SELECT COUNT(city) FROM world_Cities\n",
        "WHERE city =\n",
        "(SELECT country\n",
        "FROM world_Countries\n",
        "WHERE EU = 'no' AND coastline=\"no\")\n"
      ],
      "execution_count": null,
      "outputs": [
        {
          "output_type": "stream",
          "name": "stdout",
          "text": [
            " * sqlite://\n",
            "Done.\n"
          ]
        },
        {
          "output_type": "execute_result",
          "data": {
            "text/html": [
              "<table>\n",
              "    <thead>\n",
              "        <tr>\n",
              "            <th>COUNT(city)</th>\n",
              "        </tr>\n",
              "    </thead>\n",
              "    <tbody>\n",
              "        <tr>\n",
              "            <td>1</td>\n",
              "        </tr>\n",
              "    </tbody>\n",
              "</table>"
            ],
            "text/plain": [
              "[(1,)]"
            ]
          },
          "metadata": {},
          "execution_count": 52
        }
      ]
    },
    {
      "cell_type": "code",
      "metadata": {
        "id": "x14dNNSB8X9_",
        "colab": {
          "base_uri": "https://localhost:8080/",
          "height": 93
        },
        "outputId": "b2b0ea8b-96a9-4b97-a390-5224efd6cd60"
      },
      "source": [
        "# Challenge 5\n",
        "# Find the number of countries with no coastline and a city with longitude < 10\n",
        "# \n",
        "%%sql\n",
        "SELECT count()\n",
        "FROM world_Countries\n",
        "WHERE country IN \n",
        "               (SELECT city FROM world_cities WHERE coastline=\"no\" AND longitude<10)"
      ],
      "execution_count": null,
      "outputs": [
        {
          "output_type": "stream",
          "name": "stdout",
          "text": [
            " * sqlite://\n",
            "Done.\n"
          ]
        },
        {
          "output_type": "execute_result",
          "data": {
            "text/html": [
              "<table>\n",
              "    <thead>\n",
              "        <tr>\n",
              "            <th>count()</th>\n",
              "        </tr>\n",
              "    </thead>\n",
              "    <tbody>\n",
              "        <tr>\n",
              "            <td>1</td>\n",
              "        </tr>\n",
              "    </tbody>\n",
              "</table>"
            ],
            "text/plain": [
              "[(1,)]"
            ]
          },
          "metadata": {},
          "execution_count": 55
        }
      ]
    },
    {
      "cell_type": "code",
      "metadata": {
        "id": "Z_AeMRdD82F8",
        "colab": {
          "base_uri": "https://localhost:8080/"
        },
        "outputId": "b43715f6-1b21-46e6-e691-2956513cc217"
      },
      "source": [
        "# Challenge 6\n",
        "# Find countries in Countries table with no city in Cities table\n",
        "# \n",
        "%%sql\n",
        "SELECT count()\n",
        "FROM world_Countries\n",
        "WHERE country NOT EXISTS \n",
        "               (SELECT city FROM world_cities )\n",
        "\n"
      ],
      "execution_count": null,
      "outputs": [
        {
          "output_type": "stream",
          "name": "stdout",
          "text": [
            " * sqlite://\n",
            "(sqlite3.OperationalError) near \"EXISTS\": syntax error\n",
            "[SQL: SELECT count()\n",
            "FROM world_Countries\n",
            "WHERE country NOT EXISTS \n",
            "               (SELECT city FROM world_cities )]\n",
            "(Background on this error at: https://sqlalche.me/e/14/e3q8)\n"
          ]
        }
      ]
    },
    {
      "cell_type": "code",
      "metadata": {
        "id": "4dW5nRzi9atc",
        "colab": {
          "base_uri": "https://localhost:8080/",
          "height": 197
        },
        "outputId": "5716b20a-f46e-4094-e8b8-b7ba6c360777"
      },
      "source": [
        "# Challenge 7\n",
        "# Find all cities in a country whose population is < 2, returning the city and country.\n",
        "# \n",
        "%%sql\n",
        "SELECT city \n",
        "FROM world_Cities INNER JOIN world_Countries ON world_Cities.country = world_Countries.country\n",
        "WHERE population <2;"
      ],
      "execution_count": null,
      "outputs": [
        {
          "output_type": "stream",
          "name": "stdout",
          "text": [
            " * sqlite://\n",
            "Done.\n"
          ]
        },
        {
          "output_type": "execute_result",
          "data": {
            "text/html": [
              "<table>\n",
              "    <thead>\n",
              "        <tr>\n",
              "            <th>city</th>\n",
              "        </tr>\n",
              "    </thead>\n",
              "    <tbody>\n",
              "        <tr>\n",
              "            <td>Andorra</td>\n",
              "        </tr>\n",
              "        <tr>\n",
              "            <td>Daugavpils</td>\n",
              "        </tr>\n",
              "        <tr>\n",
              "            <td>Podgorica</td>\n",
              "        </tr>\n",
              "        <tr>\n",
              "            <td>Riga</td>\n",
              "        </tr>\n",
              "        <tr>\n",
              "            <td>Tallinn</td>\n",
              "        </tr>\n",
              "        <tr>\n",
              "            <td>Tartu</td>\n",
              "        </tr>\n",
              "    </tbody>\n",
              "</table>"
            ],
            "text/plain": [
              "[('Andorra',),\n",
              " ('Daugavpils',),\n",
              " ('Podgorica',),\n",
              " ('Riga',),\n",
              " ('Tallinn',),\n",
              " ('Tartu',)]"
            ]
          },
          "metadata": {},
          "execution_count": 61
        }
      ]
    },
    {
      "cell_type": "code",
      "metadata": {
        "id": "rZCO_07d9n9G",
        "colab": {
          "base_uri": "https://localhost:8080/"
        },
        "outputId": "0f50542c-1547-4b34-b5ec-a3292c740d61"
      },
      "source": [
        "# Challenge 8\n",
        "# Find all countries with no city having a temperature > 6\n",
        "# \n",
        "%%sql\n",
        "SELECT  \n",
        "FROM world_Cities INNER JOIN world_Countries ON world_Cities.country = world_Countries.country\n",
        "WHERE temperature >6 AND city NOT EXISTS;"
      ],
      "execution_count": null,
      "outputs": [
        {
          "output_type": "stream",
          "name": "stdout",
          "text": [
            " * sqlite://\n",
            "(sqlite3.OperationalError) near \"EXISTS\": syntax error\n",
            "[SQL: SELECT * \n",
            "FROM world_Cities INNER JOIN world_Countries ON world_Cities.country = world_Countries.country\n",
            "WHERE temperature >6 AND city NOT EXISTS;]\n",
            "(Background on this error at: https://sqlalche.me/e/14/e3q8)\n"
          ]
        }
      ]
    },
    {
      "cell_type": "code",
      "source": [
        ""
      ],
      "metadata": {
        "id": "n4mQsZzMIKw4"
      },
      "execution_count": null,
      "outputs": []
    }
  ]
}